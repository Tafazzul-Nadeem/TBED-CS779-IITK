{
 "cells": [
  {
   "cell_type": "code",
   "execution_count": 1,
   "id": "c871105a",
   "metadata": {},
   "outputs": [],
   "source": [
    "import subprocess\n",
    "import os"
   ]
  },
  {
   "cell_type": "code",
   "execution_count": 48,
   "id": "bc8f7f5b",
   "metadata": {},
   "outputs": [
    {
     "name": "stdout",
     "output_type": "stream",
     "text": [
      "Generating single mermaid chart\n"
     ]
    },
    {
     "data": {
      "text/plain": [
       "CompletedProcess(args=['mmdc', '-i', 'Packet/MermaidCode/53.mmd', '-o', 'Packet/MermaidImage/53.png', '-s', '2'], returncode=0)"
      ]
     },
     "execution_count": 48,
     "metadata": {},
     "output_type": "execute_result"
    }
   ],
   "source": [
    "image_no = 53\n",
    "def generate_mermaid(fields):\n",
    "#     mermaid_lines = [f\"\"\"---\n",
    "# title: \"IGMPv3 Packet Format\"\n",
    "# ---    \n",
    "    mermaid_lines = [f\"\"\"packet-beta\"\"\"]\n",
    "    start_bit = 0\n",
    "    for field_name, bit_width in fields:\n",
    "        end_bit = start_bit + bit_width - 1\n",
    "        mermaid_lines.append(f'    {start_bit}-{end_bit}: \"{field_name}\"')\n",
    "        start_bit = end_bit + 1\n",
    "    return '\\n'.join(mermaid_lines)\n",
    "\n",
    "# Example usage\n",
    "fields = [\n",
    "    # ('Version', 4),\n",
    "    # ('Type', 8),\n",
    "    # ('Max Response Code', 8),\n",
    "    # ('Checksum', 16),\n",
    "    # ('Group Address', 32),\n",
    "    # ('ReSv', 4),\n",
    "    # ('S', 1),\n",
    "    # ('QRV', 3),\n",
    "    # ('QQIC', 8),\n",
    "    # ('Number of Sources N', 16),\n",
    "    # ('Priority Traffic Class', 8),\n",
    "    # ('Flow Label', 20),\n",
    "    # ('Payload Length', 16),\n",
    "    # ('Next Header', 8),\n",
    "    # ('Hop Limit', 8),\n",
    "    ('Source Port', 11),\n",
    "    # ('Source Address 1', 32),\n",
    "    # ('Source Address 2', 32),\n",
    "    # ('Source Address 3', 32)\n",
    "    # ('Hardware Length', 8),\n",
    "    # ('Protocol Length', 8),\n",
    "    # ('Operation', 16),\n",
    "    # ('Sender Header Address', 32),\n",
    "    # ('Sender Prorocol Address', 32),\n",
    "    # ('Target Hardware Address', 32),\n",
    "    # ('Target Protocol Address', 32),\n",
    "    # ('Operation', 16),\n",
    "    # ('Destination Address', 32),\n",
    "    ('Destination Port', 10),\n",
    "    # ('Flags (PSH, Ack)', 6),\n",
    "    # ('Data (FIN)', 4),\n",
    "    # ('Flags (SYN)', 2),\n",
    "    # ('Length', 16),\n",
    "    # ('Type', 8),\n",
    "    # ('Code', 8),\n",
    "    # ('Acknowledgement Number', 11)\n",
    "    # ('Ctrl', 8),\n",
    "    # ('Offset (Optional)', 16),\n",
    "    # ('Key (Optional)', 32),\n",
    "    # ('Extension Headers', 32)\n",
    "    # ('Flags (PSH)', 12),\n",
    "    # ('Window Sum', 6),\n",
    "    ('Sequence Number', 4),\n",
    "    # ('Urgent Pointer', 10),\n",
    "    # ('Sequence Number', 14),\n",
    "    # ('Flag', 10),\n",
    "    ('Data', 8),\n",
    "    # ('Data Offset', 3),\n",
    "    # ('Flags',8),\n",
    "    ('Reserve', 7),\n",
    "    ('Flag', 7),\n",
    "    ('Checksum', 5),\n",
    "    ('Flag', 5)\n",
    "    # ('Window Size', 9),\n",
    "    # ('Data/Payload (Variable Length)', 32)\n",
    "    # ('Routing (Optional)', 32)\n",
    "    # ('FCS', 32)\n",
    "\n",
    "]\n",
    "\n",
    "mermaid_code = generate_mermaid(fields)\n",
    "diag_type = 'Packet'\n",
    "\n",
    "image_filename = os.path.join(diag_type,'MermaidImage', f'{image_no}.png')\n",
    "mermaid_code_filename = os.path.join(diag_type,'MermaidCode', f'{image_no}.mmd')\n",
    "\n",
    "with open(f\"{mermaid_code_filename}\", \"w\") as f:\n",
    "    f.write(mermaid_code)\n",
    "\n",
    "# Step 2: Generate image using mermaid-cli (mmdc)\n",
    "\n",
    "subprocess.run([\"mmdc\", \"-i\", mermaid_code_filename, \"-o\", image_filename, '-s', '2'], check=True)\n",
    "\n",
    "# Now, 'diagram.mmd' contains the code and 'diagram.png' is the generated image."
   ]
  },
  {
   "cell_type": "code",
   "execution_count": 8,
   "id": "b05d272f",
   "metadata": {},
   "outputs": [
    {
     "name": "stdout",
     "output_type": "stream",
     "text": [
      "Generating single mermaid chart\n"
     ]
    },
    {
     "data": {
      "text/plain": [
       "CompletedProcess(args=['mmdc', '-i', 'C4/MermaidCode/30.mmd', '-o', 'C4/MermaidImage/30.png', '-s', '2'], returncode=0)"
      ]
     },
     "execution_count": 8,
     "metadata": {},
     "output_type": "execute_result"
    }
   ],
   "source": [
    "image_no = 30\n",
    "# mermaid_code = \"\"\"C4Context\n",
    "\n",
    "#         Enterprise_Boundary(b1, \"Company Boundary\") {\n",
    "#             Person(User, \"User\", \"Login to access features\")\n",
    "#             System(AuthenticationService, \"Authentication Service\", \"Verifies identity and provides access tokens\")\n",
    "#     }\n",
    "#     Rel(User, AuthenticationService, \"Requests login\")\n",
    "#  UpdateLayoutConfig($c4ShapeInRow=\"3\", $c4BoundaryInRow=\"1\")\n",
    "\n",
    "# \"\"\"\n",
    "mermaid_code = \"\"\"C4Context\n",
    "\n",
    "        Enterprise_Boundary(b1, \"System Boundary\") {\n",
    "            Person(Patient, \"Patient\", \"\")\n",
    "            System(ReportService, \"Report Service\", \"\")\n",
    "    }\n",
    "        Enterprise_Boundary(b2, \"System Boundary 1\") { \n",
    "            System(PatientDashboard, \"Patient Dashboard\", \"\")\n",
    "            System(AppointmentBooking, \"Appointment Booking\", \"\")\n",
    "    }\n",
    "    Rel(Patient, PatientDashboard, \"Access Health Data\")\n",
    "    Rel(PatientDashboard, ReportService, \"Get test results\")\n",
    "    Rel(PatientDashboard, AppointmentBooking, \"Book a slot\")\n",
    "    Rel(AppointmentBooking, ReportService, \"Check for follow-up needs\")\n",
    "\n",
    " UpdateLayoutConfig($c4ShapeInRow=\"3\", $c4BoundaryInRow=\"3\")\n",
    "\n",
    "\"\"\"\n",
    "diag_type = 'C4'\n",
    "\n",
    "image_filename = os.path.join(diag_type,'MermaidImage', f'{image_no}.png')\n",
    "mermaid_code_filename = os.path.join(diag_type,'MermaidCode', f'{image_no}.mmd')\n",
    "\n",
    "with open(f\"{mermaid_code_filename}\", \"w\") as f:\n",
    "    f.write(mermaid_code)\n",
    "\n",
    "# Step 2: Generate image using mermaid-cli (mmdc)\n",
    "\n",
    "subprocess.run([\"mmdc\", \"-i\", mermaid_code_filename, \"-o\", image_filename, '-s', '2'], check=True)\n",
    "\n",
    "# Now, 'diagram.mmd' contains the code and 'diagram.png' is the generated image."
   ]
  }
 ],
 "metadata": {
  "kernelspec": {
   "display_name": "Python 3",
   "language": "python",
   "name": "python3"
  },
  "language_info": {
   "codemirror_mode": {
    "name": "ipython",
    "version": 3
   },
   "file_extension": ".py",
   "mimetype": "text/x-python",
   "name": "python",
   "nbconvert_exporter": "python",
   "pygments_lexer": "ipython3",
   "version": "3.11.5"
  }
 },
 "nbformat": 4,
 "nbformat_minor": 5
}
